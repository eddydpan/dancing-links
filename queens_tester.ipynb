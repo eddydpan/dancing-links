{
 "cells": [
  {
   "cell_type": "code",
   "execution_count": 1,
   "metadata": {},
   "outputs": [
    {
     "name": "stdout",
     "output_type": "stream",
     "text": [
      "[0, 0, 0, 0, 0, 0, 0, 0, 0, 0, 0, 0, 0, 0, 0, 0]\n",
      "[1, 0, 0, 1, 0, 0, 1, 0, 0, 0, 0, 0, 0, 1, 0, 0]\n",
      "[1, 0, 0, 0, 1, 0, 0, 1, 0, 0, 0, 0, 1, 0, 0, 0]\n",
      "[1, 0, 0, 0, 0, 1, 0, 0, 1, 0, 0, 1, 0, 0, 0, 0]\n",
      "[0, 1, 0, 1, 0, 0, 0, 1, 0, 0, 0, 0, 0, 0, 1, 0]\n",
      "[0, 1, 0, 0, 1, 0, 0, 0, 1, 0, 0, 0, 0, 1, 0, 0]\n",
      "[0, 1, 0, 0, 0, 1, 0, 0, 0, 1, 0, 0, 1, 0, 0, 0]\n",
      "[0, 0, 1, 1, 0, 0, 0, 0, 1, 0, 0, 0, 0, 0, 0, 1]\n",
      "[0, 0, 1, 0, 1, 0, 0, 0, 0, 1, 0, 0, 0, 0, 1, 0]\n",
      "[0, 0, 1, 0, 0, 1, 0, 0, 0, 0, 1, 0, 0, 1, 0, 0]\n"
     ]
    }
   ],
   "source": [
    "n = 3\n",
    "bruh = [[0 for _ in range(6*n - 2)] for _ in range (n**2 + 1)]\n",
    "\n",
    "for r in range(n):\n",
    "    for c in range(n):\n",
    "        # Calculate the conditions that it will cover\n",
    "        row_map = r # will be 0->n-1\n",
    "        col_map = (n) + c # will be n->2n-1\n",
    "        pos_diag_map = (2*n) + r + c # will be 2n->4n-2\n",
    "        neg_diag_map = (4*n - 2) + n - c + r # will be 4n-2->6n-3\n",
    "\n",
    "        # Populate the cover_mat. 1 row for each possible position\n",
    "        bruh[r*n+c+1][row_map] = 1 \n",
    "        bruh[r*n+c+1][col_map] = 1 \n",
    "        bruh[r*n+c+1][pos_diag_map] = 1 \n",
    "        bruh[r*n+c+1][neg_diag_map] = 1 \n",
    "\n",
    "for i in range(len(bruh)):\n",
    "    print(bruh[i])"
   ]
  },
  {
   "cell_type": "code",
   "execution_count": 3,
   "metadata": {},
   "outputs": [
    {
     "name": "stdout",
     "output_type": "stream",
     "text": [
      "10\n"
     ]
    }
   ],
   "source": [
    "from DLX import DLX_solver\n",
    "\n",
    "bruh = DLX_solver(5)\n",
    "\n",
    "bruh.empty_to_exact_cover()\n",
    "bruh.exact_cover_to_dancing_list()\n",
    "bruh.AlgoX()\n",
    "\n",
    "print(len(bruh.solutions))"
   ]
  }
 ],
 "metadata": {
  "kernelspec": {
   "display_name": "tangen",
   "language": "python",
   "name": "python3"
  },
  "language_info": {
   "codemirror_mode": {
    "name": "ipython",
    "version": 3
   },
   "file_extension": ".py",
   "mimetype": "text/x-python",
   "name": "python",
   "nbconvert_exporter": "python",
   "pygments_lexer": "ipython3",
   "version": "3.11.10"
  }
 },
 "nbformat": 4,
 "nbformat_minor": 2
}
