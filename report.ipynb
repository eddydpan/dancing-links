{
 "cells": [
  {
   "cell_type": "markdown",
   "id": "2e8ae9a9",
   "metadata": {},
   "source": [
    "# Exact-Cover via Dancing Links: N-Queens & Sudoku Demos\n",
    "## Abstract\n",
    "We explore Knuth’s Algorithm X using a toroidal Dancing-Links (DLX) implementation to solve two canonical exact-cover problems: the N-Queens puzzle and Sudoku. First, we show how to build the exact-cover matrix for N-Queens, then run a DLX solver to count solutions for N = 5. Next, we convert a partially filled Sudoku into its exact-cover form, solve it with DLX, and present the completed grid."
   ]
  },
  {
   "cell_type": "code",
   "execution_count": 2,
   "id": "c207d4ef",
   "metadata": {},
   "outputs": [],
   "source": [
    "import numpy as np"
   ]
  },
  {
   "cell_type": "markdown",
   "id": "8136945e",
   "metadata": {},
   "source": [
    "## Exact Cover & DLX\n",
    "An exact-cover problem asks us to select a subset of rows from a binary matrix so that every column contains exactly one “1.” Knuth’s Algorithm X is a recursive, depth-first search for such a cover, and the Dancing-Links data structure makes each cover/uncover operation a constant-time pointer splice in a four-way circular doubly linked list."
   ]
  },
  {
   "cell_type": "markdown",
   "id": "37e6a7eb",
   "metadata": {},
   "source": [
    "## N-Queens\n",
    "Every way to place N queens on an N×N board so that no two attack corresponds to selecting N rows in a binary matrix with 4N−2 constraints:\n",
    "\n",
    "- Row constraints (N)\n",
    "- Column constraints (N)\n",
    "- Positive-diagonal (2N−1)\n",
    "- Negative-diagonal (2N−1)\n",
    "\n",
    "### Build the Exact-Cover Matrix for N=3 (Example)"
   ]
  },
  {
   "cell_type": "code",
   "execution_count": 11,
   "id": "80517785",
   "metadata": {},
   "outputs": [
    {
     "name": "stdout",
     "output_type": "stream",
     "text": [
      "[0, 0, 0, 0, 0, 0, 0, 0, 0, 0, 0, 0, 0, 0, 0, 0, 0, 0, 0, 0, 0, 0, 0, 0, 0, 0, 0, 0]\n",
      "[1, 0, 0, 0, 0, 1, 0, 0, 0, 0, 1, 0, 0, 0, 0, 0, 0, 0, 0, 0, 0, 0, 0, 1, 0, 0, 0, 0]\n",
      "[1, 0, 0, 0, 0, 0, 1, 0, 0, 0, 0, 1, 0, 0, 0, 0, 0, 0, 0, 0, 0, 0, 1, 0, 0, 0, 0, 0]\n",
      "[1, 0, 0, 0, 0, 0, 0, 1, 0, 0, 0, 0, 1, 0, 0, 0, 0, 0, 0, 0, 0, 1, 0, 0, 0, 0, 0, 0]\n",
      "[1, 0, 0, 0, 0, 0, 0, 0, 1, 0, 0, 0, 0, 1, 0, 0, 0, 0, 0, 0, 1, 0, 0, 0, 0, 0, 0, 0]\n",
      "[1, 0, 0, 0, 0, 0, 0, 0, 0, 1, 0, 0, 0, 0, 1, 0, 0, 0, 0, 1, 0, 0, 0, 0, 0, 0, 0, 0]\n",
      "[0, 1, 0, 0, 0, 1, 0, 0, 0, 0, 0, 1, 0, 0, 0, 0, 0, 0, 0, 0, 0, 0, 0, 0, 1, 0, 0, 0]\n",
      "[0, 1, 0, 0, 0, 0, 1, 0, 0, 0, 0, 0, 1, 0, 0, 0, 0, 0, 0, 0, 0, 0, 0, 1, 0, 0, 0, 0]\n",
      "[0, 1, 0, 0, 0, 0, 0, 1, 0, 0, 0, 0, 0, 1, 0, 0, 0, 0, 0, 0, 0, 0, 1, 0, 0, 0, 0, 0]\n",
      "[0, 1, 0, 0, 0, 0, 0, 0, 1, 0, 0, 0, 0, 0, 1, 0, 0, 0, 0, 0, 0, 1, 0, 0, 0, 0, 0, 0]\n",
      "[0, 1, 0, 0, 0, 0, 0, 0, 0, 1, 0, 0, 0, 0, 0, 1, 0, 0, 0, 0, 1, 0, 0, 0, 0, 0, 0, 0]\n",
      "[0, 0, 1, 0, 0, 1, 0, 0, 0, 0, 0, 0, 1, 0, 0, 0, 0, 0, 0, 0, 0, 0, 0, 0, 0, 1, 0, 0]\n",
      "[0, 0, 1, 0, 0, 0, 1, 0, 0, 0, 0, 0, 0, 1, 0, 0, 0, 0, 0, 0, 0, 0, 0, 0, 1, 0, 0, 0]\n",
      "[0, 0, 1, 0, 0, 0, 0, 1, 0, 0, 0, 0, 0, 0, 1, 0, 0, 0, 0, 0, 0, 0, 0, 1, 0, 0, 0, 0]\n",
      "[0, 0, 1, 0, 0, 0, 0, 0, 1, 0, 0, 0, 0, 0, 0, 1, 0, 0, 0, 0, 0, 0, 1, 0, 0, 0, 0, 0]\n",
      "[0, 0, 1, 0, 0, 0, 0, 0, 0, 1, 0, 0, 0, 0, 0, 0, 1, 0, 0, 0, 0, 1, 0, 0, 0, 0, 0, 0]\n",
      "[0, 0, 0, 1, 0, 1, 0, 0, 0, 0, 0, 0, 0, 1, 0, 0, 0, 0, 0, 0, 0, 0, 0, 0, 0, 0, 1, 0]\n",
      "[0, 0, 0, 1, 0, 0, 1, 0, 0, 0, 0, 0, 0, 0, 1, 0, 0, 0, 0, 0, 0, 0, 0, 0, 0, 1, 0, 0]\n",
      "[0, 0, 0, 1, 0, 0, 0, 1, 0, 0, 0, 0, 0, 0, 0, 1, 0, 0, 0, 0, 0, 0, 0, 0, 1, 0, 0, 0]\n",
      "[0, 0, 0, 1, 0, 0, 0, 0, 1, 0, 0, 0, 0, 0, 0, 0, 1, 0, 0, 0, 0, 0, 0, 1, 0, 0, 0, 0]\n",
      "[0, 0, 0, 1, 0, 0, 0, 0, 0, 1, 0, 0, 0, 0, 0, 0, 0, 1, 0, 0, 0, 0, 1, 0, 0, 0, 0, 0]\n",
      "[0, 0, 0, 0, 1, 1, 0, 0, 0, 0, 0, 0, 0, 0, 1, 0, 0, 0, 0, 0, 0, 0, 0, 0, 0, 0, 0, 1]\n",
      "[0, 0, 0, 0, 1, 0, 1, 0, 0, 0, 0, 0, 0, 0, 0, 1, 0, 0, 0, 0, 0, 0, 0, 0, 0, 0, 1, 0]\n",
      "[0, 0, 0, 0, 1, 0, 0, 1, 0, 0, 0, 0, 0, 0, 0, 0, 1, 0, 0, 0, 0, 0, 0, 0, 0, 1, 0, 0]\n",
      "[0, 0, 0, 0, 1, 0, 0, 0, 1, 0, 0, 0, 0, 0, 0, 0, 0, 1, 0, 0, 0, 0, 0, 0, 1, 0, 0, 0]\n",
      "[0, 0, 0, 0, 1, 0, 0, 0, 0, 1, 0, 0, 0, 0, 0, 0, 0, 0, 1, 0, 0, 0, 0, 1, 0, 0, 0, 0]\n"
     ]
    }
   ],
   "source": [
    "n = 5\n",
    "bruh = [[0 for _ in range(6*n - 2)] for _ in range (n**2 + 1)]\n",
    "\n",
    "for r in range(n):\n",
    "    for c in range(n):\n",
    "        # Calculate the conditions that it will cover\n",
    "        row_map = r # will be 0->n-1\n",
    "        col_map = (n) + c # will be n->2n-1\n",
    "        pos_diag_map = (2*n) + r + c # will be 2n->4n-2\n",
    "        neg_diag_map = (4*n - 2) + n - c + r # will be 4n-2->6n-3\n",
    "\n",
    "        # Populate the cover_mat. 1 row for each possible position\n",
    "        bruh[r*n+c+1][row_map] = 1 \n",
    "        bruh[r*n+c+1][col_map] = 1 \n",
    "        bruh[r*n+c+1][pos_diag_map] = 1 \n",
    "        bruh[r*n+c+1][neg_diag_map] = 1 \n",
    "\n",
    "for i in range(len(bruh)):\n",
    "    print(bruh[i])"
   ]
  },
  {
   "cell_type": "markdown",
   "id": "a8477b5d",
   "metadata": {},
   "source": [
    "### Solve for N=5"
   ]
  },
  {
   "cell_type": "code",
   "execution_count": 15,
   "id": "684bb235",
   "metadata": {},
   "outputs": [
    {
     "name": "stdout",
     "output_type": "stream",
     "text": [
      "Number of unique solutions for 5-Queens: 10\n"
     ]
    }
   ],
   "source": [
    "# N-Queens\n",
    "from DLX import DLX_solver\n",
    "\n",
    "bruh = DLX_solver(\"N-Queens\", 5, [], None)\n",
    "\n",
    "bruh.empty_to_exact_cover()\n",
    "bruh.exact_cover_to_dancing_list()\n",
    "bruh.AlgoX()\n",
    "\n",
    "print(f\"Number of unique solutions for {n}-Queens: {len(bruh.solutions)}\")"
   ]
  },
  {
   "cell_type": "markdown",
   "id": "4463f9a2",
   "metadata": {},
   "source": [
    "## Sudoku\n",
    "We treat each candidate placement (row 0–8 (r), col 0–8 (c), value 1–9 (v)) as a row in a 730×324 binary matrix covering:\n",
    "- Cell occupancy (81 columns)\n",
    "- Row–digit (81)\n",
    "- Column–digit (81)\n",
    "- Box–digit (81)\n",
    "\n",
    "### 3.1 Convert & Solve"
   ]
  },
  {
   "cell_type": "code",
   "execution_count": 13,
   "id": "dc9adbbc",
   "metadata": {},
   "outputs": [
    {
     "name": "stdout",
     "output_type": "stream",
     "text": [
      "[[4 2 5 8 1 6 9 7 3]\n",
      " [8 9 3 7 5 4 6 2 1]\n",
      " [6 1 7 3 2 9 5 4 8]\n",
      " [9 4 1 6 8 7 2 3 5]\n",
      " [5 8 2 4 3 1 7 6 9]\n",
      " [7 3 6 2 9 5 1 8 4]\n",
      " [2 7 9 1 4 8 3 5 6]\n",
      " [3 5 4 9 6 2 8 1 7]\n",
      " [1 6 8 5 7 3 4 9 2]]\n"
     ]
    }
   ],
   "source": [
    "# Sudoku\n",
    "sudoku = np.array([\n",
    "                    [0,2,0, 0,0,6, 9,0,0],\n",
    "                    [0,0,0, 0,5,0, 0,2,0],\n",
    "                    [6,0,0, 3,0,0, 0,0,0],\n",
    "\n",
    "                    [9,4,0, 0,0,7, 0,0,0],\n",
    "                    [0,0,0, 4,0,0, 7,0,0],\n",
    "                    [0,3,0, 2,0,0, 0,8,0],\n",
    "\n",
    "                    [0,0,9, 0,4,0, 0,0,0],\n",
    "                    [3,0,0, 9,0,2, 0,1,7],\n",
    "                    [0,0,8, 0,0,0, 0,0,2]\n",
    "    ])\n",
    "\n",
    "from DLX import DLX_solver\n",
    "\n",
    "dlx = DLX_solver(\"Sudoku\", None, [], sudoku)\n",
    "dlx.exact_cover_to_dancing_list()\n",
    "dlx.AlgoX()"
   ]
  },
  {
   "cell_type": "markdown",
   "id": "547680c1",
   "metadata": {},
   "source": [
    "## Conclusion\n",
    "By encoding both N-Queens and Sudoku as exact-cover matrices and leveraging a Dancing-Links structure for Algorithm X, we:\n",
    "\n",
    "- Guaranteed that each constraint is covered exactly once.\n",
    "- Performed each cover/uncover in O(1) pointer operations.\n",
    "- Pruned the search dramatically via a “minimum‐remaining‐values” heuristic.\n",
    "\n",
    "These demos illustrate how DLX turns exponential‐time backtracking into a highly efficient solver for real-world puzzles."
   ]
  }
 ],
 "metadata": {
  "kernelspec": {
   "display_name": ".venv",
   "language": "python",
   "name": "python3"
  },
  "language_info": {
   "codemirror_mode": {
    "name": "ipython",
    "version": 3
   },
   "file_extension": ".py",
   "mimetype": "text/x-python",
   "name": "python",
   "nbconvert_exporter": "python",
   "pygments_lexer": "ipython3",
   "version": "3.10.2"
  }
 },
 "nbformat": 4,
 "nbformat_minor": 5
}
