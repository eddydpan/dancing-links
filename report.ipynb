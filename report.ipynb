{
 "cells": [
  {
   "cell_type": "markdown",
   "id": "2e8ae9a9",
   "metadata": {},
   "source": [
    "# Exact-Cover via Dancing Links: N-Queens & Sudoku Demos\n",
    "## Abstract\n",
    "We explore Knuth’s Algorithm X using a toroidal Dancing-Links (DLX) implementation to solve two canonical exact-cover problems: the N-Queens puzzle and Sudoku. First, we show how to build the exact-cover matrix for N-Queens, then run a DLX solver to count solutions for N = 5. Next, we convert a partially filled Sudoku into its exact-cover form, solve it with DLX, and present the completed grid."
   ]
  },
  {
   "cell_type": "code",
   "execution_count": 1,
   "id": "c207d4ef",
   "metadata": {},
   "outputs": [],
   "source": [
    "import numpy as np"
   ]
  },
  {
   "cell_type": "markdown",
   "id": "8136945e",
   "metadata": {},
   "source": [
    "## Exact Cover & DLX\n",
    "An exact-cover problem asks us to select a subset of rows from a binary matrix so that every column contains exactly one “1.” Knuth’s Algorithm X is a recursive, depth-first search for such a cover, and the Dancing-Links data structure makes each cover/uncover operation a constant-time pointer splice in a four-way circular doubly linked list."
   ]
  },
  {
   "cell_type": "markdown",
   "id": "37e6a7eb",
   "metadata": {},
   "source": [
    "## N-Queens\n",
    "Every way to place N queens on an N×N board so that no two attack corresponds to selecting N rows in a binary matrix with 4N−2 constraints:\n",
    "\n",
    "- Row constraints (N)\n",
    "- Column constraints (N)\n",
    "- Positive-diagonal (2N−1)\n",
    "- Negative-diagonal (2N−1)\n",
    "\n",
    "### Build the Exact-Cover Matrix for N=3 (Example)"
   ]
  },
  {
   "cell_type": "code",
   "execution_count": 2,
   "id": "80517785",
   "metadata": {},
   "outputs": [
    {
     "name": "stdout",
     "output_type": "stream",
     "text": [
      "[0, 0, 0, 0, 0, 0, 0, 0, 0, 0, 0, 0, 0, 0, 0, 0, 0, 0, 0, 0, 0, 0, 0, 0, 0, 0, 0, 0]\n",
      "[1, 0, 0, 0, 0, 1, 0, 0, 0, 0, 1, 0, 0, 0, 0, 0, 0, 0, 0, 0, 0, 0, 0, 1, 0, 0, 0, 0]\n",
      "[1, 0, 0, 0, 0, 0, 1, 0, 0, 0, 0, 1, 0, 0, 0, 0, 0, 0, 0, 0, 0, 0, 1, 0, 0, 0, 0, 0]\n",
      "[1, 0, 0, 0, 0, 0, 0, 1, 0, 0, 0, 0, 1, 0, 0, 0, 0, 0, 0, 0, 0, 1, 0, 0, 0, 0, 0, 0]\n",
      "[1, 0, 0, 0, 0, 0, 0, 0, 1, 0, 0, 0, 0, 1, 0, 0, 0, 0, 0, 0, 1, 0, 0, 0, 0, 0, 0, 0]\n",
      "[1, 0, 0, 0, 0, 0, 0, 0, 0, 1, 0, 0, 0, 0, 1, 0, 0, 0, 0, 1, 0, 0, 0, 0, 0, 0, 0, 0]\n",
      "[0, 1, 0, 0, 0, 1, 0, 0, 0, 0, 0, 1, 0, 0, 0, 0, 0, 0, 0, 0, 0, 0, 0, 0, 1, 0, 0, 0]\n",
      "[0, 1, 0, 0, 0, 0, 1, 0, 0, 0, 0, 0, 1, 0, 0, 0, 0, 0, 0, 0, 0, 0, 0, 1, 0, 0, 0, 0]\n",
      "[0, 1, 0, 0, 0, 0, 0, 1, 0, 0, 0, 0, 0, 1, 0, 0, 0, 0, 0, 0, 0, 0, 1, 0, 0, 0, 0, 0]\n",
      "[0, 1, 0, 0, 0, 0, 0, 0, 1, 0, 0, 0, 0, 0, 1, 0, 0, 0, 0, 0, 0, 1, 0, 0, 0, 0, 0, 0]\n",
      "[0, 1, 0, 0, 0, 0, 0, 0, 0, 1, 0, 0, 0, 0, 0, 1, 0, 0, 0, 0, 1, 0, 0, 0, 0, 0, 0, 0]\n",
      "[0, 0, 1, 0, 0, 1, 0, 0, 0, 0, 0, 0, 1, 0, 0, 0, 0, 0, 0, 0, 0, 0, 0, 0, 0, 1, 0, 0]\n",
      "[0, 0, 1, 0, 0, 0, 1, 0, 0, 0, 0, 0, 0, 1, 0, 0, 0, 0, 0, 0, 0, 0, 0, 0, 1, 0, 0, 0]\n",
      "[0, 0, 1, 0, 0, 0, 0, 1, 0, 0, 0, 0, 0, 0, 1, 0, 0, 0, 0, 0, 0, 0, 0, 1, 0, 0, 0, 0]\n",
      "[0, 0, 1, 0, 0, 0, 0, 0, 1, 0, 0, 0, 0, 0, 0, 1, 0, 0, 0, 0, 0, 0, 1, 0, 0, 0, 0, 0]\n",
      "[0, 0, 1, 0, 0, 0, 0, 0, 0, 1, 0, 0, 0, 0, 0, 0, 1, 0, 0, 0, 0, 1, 0, 0, 0, 0, 0, 0]\n",
      "[0, 0, 0, 1, 0, 1, 0, 0, 0, 0, 0, 0, 0, 1, 0, 0, 0, 0, 0, 0, 0, 0, 0, 0, 0, 0, 1, 0]\n",
      "[0, 0, 0, 1, 0, 0, 1, 0, 0, 0, 0, 0, 0, 0, 1, 0, 0, 0, 0, 0, 0, 0, 0, 0, 0, 1, 0, 0]\n",
      "[0, 0, 0, 1, 0, 0, 0, 1, 0, 0, 0, 0, 0, 0, 0, 1, 0, 0, 0, 0, 0, 0, 0, 0, 1, 0, 0, 0]\n",
      "[0, 0, 0, 1, 0, 0, 0, 0, 1, 0, 0, 0, 0, 0, 0, 0, 1, 0, 0, 0, 0, 0, 0, 1, 0, 0, 0, 0]\n",
      "[0, 0, 0, 1, 0, 0, 0, 0, 0, 1, 0, 0, 0, 0, 0, 0, 0, 1, 0, 0, 0, 0, 1, 0, 0, 0, 0, 0]\n",
      "[0, 0, 0, 0, 1, 1, 0, 0, 0, 0, 0, 0, 0, 0, 1, 0, 0, 0, 0, 0, 0, 0, 0, 0, 0, 0, 0, 1]\n",
      "[0, 0, 0, 0, 1, 0, 1, 0, 0, 0, 0, 0, 0, 0, 0, 1, 0, 0, 0, 0, 0, 0, 0, 0, 0, 0, 1, 0]\n",
      "[0, 0, 0, 0, 1, 0, 0, 1, 0, 0, 0, 0, 0, 0, 0, 0, 1, 0, 0, 0, 0, 0, 0, 0, 0, 1, 0, 0]\n",
      "[0, 0, 0, 0, 1, 0, 0, 0, 1, 0, 0, 0, 0, 0, 0, 0, 0, 1, 0, 0, 0, 0, 0, 0, 1, 0, 0, 0]\n",
      "[0, 0, 0, 0, 1, 0, 0, 0, 0, 1, 0, 0, 0, 0, 0, 0, 0, 0, 1, 0, 0, 0, 0, 1, 0, 0, 0, 0]\n"
     ]
    }
   ],
   "source": [
    "n = 5\n",
    "bruh = [[0 for _ in range(6*n - 2)] for _ in range (n**2 + 1)]\n",
    "\n",
    "for r in range(n):\n",
    "    for c in range(n):\n",
    "        # Calculate the conditions that it will cover\n",
    "        row_map = r # will be 0->n-1\n",
    "        col_map = (n) + c # will be n->2n-1\n",
    "        pos_diag_map = (2*n) + r + c # will be 2n->4n-2\n",
    "        neg_diag_map = (4*n - 2) + n - c + r # will be 4n-2->6n-3\n",
    "\n",
    "        # Populate the cover_mat. 1 row for each possible position\n",
    "        bruh[r*n+c+1][row_map] = 1 \n",
    "        bruh[r*n+c+1][col_map] = 1 \n",
    "        bruh[r*n+c+1][pos_diag_map] = 1 \n",
    "        bruh[r*n+c+1][neg_diag_map] = 1 \n",
    "\n",
    "for i in range(len(bruh)):\n",
    "    print(bruh[i])"
   ]
  },
  {
   "cell_type": "markdown",
   "id": "a8477b5d",
   "metadata": {},
   "source": [
    "### Solve for N=5"
   ]
  },
  {
   "cell_type": "code",
   "execution_count": 3,
   "id": "684bb235",
   "metadata": {},
   "outputs": [
    {
     "name": "stdout",
     "output_type": "stream",
     "text": [
      "Number of unique solutions for 5-Queens: 10\n"
     ]
    }
   ],
   "source": [
    "# N-Queens\n",
    "from DLX import DLX_solver\n",
    "\n",
    "bruh = DLX_solver(\"N-Queens\", 5, [], None)\n",
    "\n",
    "bruh.empty_to_exact_cover()\n",
    "bruh.exact_cover_to_dancing_list()\n",
    "bruh.AlgoX()\n",
    "\n",
    "print(f\"Number of unique solutions for {n}-Queens: {len(bruh.solutions)}\")"
   ]
  },
  {
   "cell_type": "markdown",
   "id": "4463f9a2",
   "metadata": {},
   "source": [
    "## Sudoku\n",
    "We treat each candidate placement (row 0–8 (r), col 0–8 (c), value 1–9 (v)) as a row in a 730×324 binary matrix covering:\n",
    "- Cell occupancy (81 columns)\n",
    "- Row–digit (81)\n",
    "- Column–digit (81)\n",
    "- Box–digit (81)\n",
    "\n",
    "### 3.1 Convert & Solve"
   ]
  },
  {
   "cell_type": "code",
   "execution_count": 4,
   "id": "dc9adbbc",
   "metadata": {},
   "outputs": [
    {
     "name": "stdout",
     "output_type": "stream",
     "text": [
      "[[4 2 5 8 1 6 9 7 3]\n",
      " [8 9 3 7 5 4 6 2 1]\n",
      " [6 1 7 3 2 9 5 4 8]\n",
      " [9 4 1 6 8 7 2 3 5]\n",
      " [5 8 2 4 3 1 7 6 9]\n",
      " [7 3 6 2 9 5 1 8 4]\n",
      " [2 7 9 1 4 8 3 5 6]\n",
      " [3 5 4 9 6 2 8 1 7]\n",
      " [1 6 8 5 7 3 4 9 2]]\n"
     ]
    }
   ],
   "source": [
    "# Sudoku\n",
    "sudoku = np.array([\n",
    "                    [0,2,0, 0,0,6, 9,0,0],\n",
    "                    [0,0,0, 0,5,0, 0,2,0],\n",
    "                    [6,0,0, 3,0,0, 0,0,0],\n",
    "\n",
    "                    [9,4,0, 0,0,7, 0,0,0],\n",
    "                    [0,0,0, 4,0,0, 7,0,0],\n",
    "                    [0,3,0, 2,0,0, 0,8,0],\n",
    "\n",
    "                    [0,0,9, 0,4,0, 0,0,0],\n",
    "                    [3,0,0, 9,0,2, 0,1,7],\n",
    "                    [0,0,8, 0,0,0, 0,0,2]\n",
    "    ])\n",
    "\n",
    "from DLX import DLX_solver\n",
    "\n",
    "dlx = DLX_solver(\"Sudoku\", None, [], sudoku)\n",
    "dlx.exact_cover_to_dancing_list()\n",
    "dlx.AlgoX()"
   ]
  },
  {
   "cell_type": "markdown",
   "id": "547680c1",
   "metadata": {},
   "source": [
    "## Conclusion\n",
    "By encoding both N-Queens and Sudoku as exact-cover matrices and leveraging a Dancing-Links implementation for Algorithm X, we:\n",
    "\n",
    "- Guaranteed that each constraint is covered exactly once.\n",
    "- Performed each cover/uncover in O(1) pointer operations.\n",
    "- Pruned the search dramatically via a “minimum‐remaining‐values” heuristic.\n",
    "\n",
    "These demos illustrate how DLX turns exponential‐time backtracking into a highly efficient solver for real-world puzzles."
   ]
  },
  {
   "cell_type": "markdown",
   "id": "4a743328",
   "metadata": {},
   "source": [
    "## Web Interface"
   ]
  },
  {
   "cell_type": "markdown",
   "id": "3b4ad5d8",
   "metadata": {},
   "source": [
    "Knuth noted in his 2018 lecture on Dancing Links that he had been awaiting an app that visualizes the animations of the links. We did exactly that! On our [GitHub pages](https://eddydpan.github.io/dancing-links/), you can try out the Dancing Links visualizer tool we created by porting the algorithm over to Javascript and creating a front-end with React. If you'd like to see the code for the front-end, feel free to `git switch gh-pages` and poke around in the `src/` directory."
   ]
  },
  {
   "cell_type": "markdown",
   "id": "cde41bbb",
   "metadata": {},
   "source": [
    "## Testing our Sudoku and N-Queens Solvers\n",
    "\n",
    "<u>A note on unit testing:</u>\n",
    "\n",
    "Dan Park, Lily Jiang, and Jess Brown checked off on the way that we implemented our testing. Since our solvers have many representations that are hard to validate (i.e. all points where the solver is leveraging the toroidal doubly linked list), the above course teachers said it was okay for us to simply test if the solvers were working as intended as a whole. Therefore, all testing is done on the results of the overall solvers for sudoku and n-queens for a variety of given inputs.\n",
    "\n",
    "### Testing Sudoku"
   ]
  },
  {
   "cell_type": "code",
   "execution_count": 1,
   "id": "5e255f4b",
   "metadata": {},
   "outputs": [
    {
     "name": "stderr",
     "output_type": "stream",
     "text": [
      "......\n",
      "----------------------------------------------------------------------\n",
      "Ran 6 tests in 0.034s\n",
      "\n",
      "OK\n"
     ]
    }
   ],
   "source": [
    "%run LeetCode/test_sudoku_solver.py"
   ]
  },
  {
   "cell_type": "markdown",
   "id": "010b6c71",
   "metadata": {},
   "source": [
    "### Testing N-Queens"
   ]
  },
  {
   "cell_type": "code",
   "execution_count": 2,
   "id": "3ed0154a",
   "metadata": {},
   "outputs": [
    {
     "name": "stderr",
     "output_type": "stream",
     "text": [
      "......\n",
      "----------------------------------------------------------------------\n",
      "Ran 6 tests in 0.003s\n",
      "\n",
      "OK\n"
     ]
    }
   ],
   "source": [
    "%run LeetCode/test_n_queens_solver.py"
   ]
  },
  {
   "cell_type": "markdown",
   "id": "a6305e85",
   "metadata": {},
   "source": [
    "## LeetCode Problems:\n",
    "\n",
    "The LeetCode problems that we chose to solve with DLX were:\n",
    "* 37: Sudoku Solver\n",
    "* 51: N-Queens\n",
    "* 52: N-Queens II\n",
    "\n",
    "You can find our solutions to these problems in the \"LeetCode\" directory. There, \n",
    "each file corresponds to the LeetCode problem with the same name, as follows:\n",
    "* 37: Sudoku Solver -> LeetCode/sudoku_solver.py\n",
    "* 51: N-Queens      -> LeetCode/n_queens.py\n",
    "* 52: N-Queens II   -> LeetCode/n_queens_ii.py\n",
    "\n",
    "All of these solutions pass the built in unit tests on the LeetCode website. In\n",
    "order to run the N-Queens solutions on the LeetCode website, simply copy and\n",
    "paste all of the code in the associated file into the code editor in LeetCode.\n",
    "As for the Sudoku Solver, you can do the same, just stop your copy at the end at\n",
    "the comment line \"STOP COPY HERE, LEETCODE SOLUTION STOPS HERE STOP\", or just \n",
    "before the \"TEST_INPUT\" line."
   ]
  }
 ],
 "metadata": {
  "kernelspec": {
   "display_name": "tangen",
   "language": "python",
   "name": "python3"
  },
  "language_info": {
   "codemirror_mode": {
    "name": "ipython",
    "version": 3
   },
   "file_extension": ".py",
   "mimetype": "text/x-python",
   "name": "python",
   "nbconvert_exporter": "python",
   "pygments_lexer": "ipython3",
   "version": "3.11.10"
  }
 },
 "nbformat": 4,
 "nbformat_minor": 5
}
