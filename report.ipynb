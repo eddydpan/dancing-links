{
 "cells": [
  {
   "cell_type": "markdown",
   "metadata": {},
   "source": [
    "# What is the Dancing Links Algorithm (DLX)?"
   ]
  },
  {
   "cell_type": "markdown",
   "metadata": {},
   "source": [
    "Eddy: DLX is a recursive depth-first backtracking algorithm that makes use of *circular doubly linked lists* to solve quasi-exact-cover problems. In an exact cover problem, columns represent constraints, and rows represent options. DLX reduces the exact cover problem by deterministically picking a column, \"covering\" it, and proceeding to remove all conflicting partial solutions (rows that also contain a node in the covered column). This algorithm then recurses upon this specific partial solution (covering the first column) until a solution is found (columns are all covered) or there are no more nodes in the target column."
   ]
  }
 ],
 "metadata": {
  "language_info": {
   "name": "python"
  }
 },
 "nbformat": 4,
 "nbformat_minor": 2
}
